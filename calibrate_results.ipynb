{
 "cells": [
  {
   "cell_type": "markdown",
   "metadata": {},
   "source": [
    "## Calibrate Results\n",
    "\n",
    "This second step is used after the predictions, in order to increase the number of items with the same domain in the prediction N.\n",
    "\n",
    "The final configuration in the code was defined after a lot of different gridsearch and different configurations in the small functions, providing the best results the ones that appears in the notebook."
   ]
  },
  {
   "cell_type": "code",
   "execution_count": 1,
   "metadata": {},
   "outputs": [],
   "source": [
    "import gzip\n",
    "import json\n",
    "import gc\n",
    "import math\n",
    "\n",
    "from collections import Counter, defaultdict\n",
    "from tqdm.notebook import tqdm\n",
    "from pathlib import Path\n",
    "\n",
    "import pandas as pd\n",
    "import numpy as np\n",
    "full_item_data = pd.read_json('item_data.jl.gz', lines = True)\n",
    "full_item_data['domain_id'] = np.where(full_item_data.domain_id.isna(),'servicio',full_item_data.domain_id)\n",
    "items_embeddings = pd.read_parquet('items_embeddings.parquet')\n",
    "items_embeddings.reset_index(inplace = True, drop = False)"
   ]
  },
  {
   "cell_type": "code",
   "execution_count": 2,
   "metadata": {},
   "outputs": [],
   "source": [
    "def jl_to_list(fname):\n",
    "    output = []\n",
    "    with gzip.open(fname, 'rb') as f:\n",
    "        for line in f:\n",
    "            output.append(json.loads(line))\n",
    "    return output\n",
    "\n",
    "item_data = jl_to_list('item_data.jl.gz')"
   ]
  },
  {
   "cell_type": "code",
   "execution_count": 3,
   "metadata": {},
   "outputs": [],
   "source": [
    "def get_most_similar(itemid,reco,k):\n",
    "    item_vec = items_embeddings[items_embeddings.item_id==itemid][[str(x) for x in range(6)]]\n",
    "    idx = np.argpartition(np.linalg.norm(items_embeddings[[str(x) for x in range(6)]].sub(np.array(item_vec)), axis=1), 10)[:10]\n",
    "    df_items = full_item_data[(full_item_data.item_id.isin(items_embeddings.iloc[idx].item_id.values)) &\n",
    "                              (~full_item_data.item_id.isin(reco))]\n",
    "    most_similar_top1 = list(df_items.item_id.unique())\n",
    "    return most_similar_top1[:k]"
   ]
  },
  {
   "cell_type": "code",
   "execution_count": 4,
   "metadata": {},
   "outputs": [],
   "source": [
    "item_domain_dict = pd.Series(full_item_data.domain_id.values,index=full_item_data.item_id).to_dict()"
   ]
  },
  {
   "cell_type": "code",
   "execution_count": 5,
   "metadata": {},
   "outputs": [
    {
     "data": {
      "text/html": [
       "<div>\n",
       "<style scoped>\n",
       "    .dataframe tbody tr th:only-of-type {\n",
       "        vertical-align: middle;\n",
       "    }\n",
       "\n",
       "    .dataframe tbody tr th {\n",
       "        vertical-align: top;\n",
       "    }\n",
       "\n",
       "    .dataframe thead th {\n",
       "        text-align: right;\n",
       "    }\n",
       "</style>\n",
       "<table border=\"1\" class=\"dataframe\">\n",
       "  <thead>\n",
       "    <tr style=\"text-align: right;\">\n",
       "      <th></th>\n",
       "      <th>0</th>\n",
       "      <th>1</th>\n",
       "      <th>2</th>\n",
       "      <th>3</th>\n",
       "      <th>4</th>\n",
       "      <th>5</th>\n",
       "      <th>6</th>\n",
       "      <th>7</th>\n",
       "      <th>8</th>\n",
       "      <th>9</th>\n",
       "    </tr>\n",
       "  </thead>\n",
       "  <tbody>\n",
       "    <tr>\n",
       "      <th>82628</th>\n",
       "      <td>1059074</td>\n",
       "      <td>452045</td>\n",
       "      <td>640905</td>\n",
       "      <td>893084</td>\n",
       "      <td>122544</td>\n",
       "      <td>1162286</td>\n",
       "      <td>1970493</td>\n",
       "      <td>987543</td>\n",
       "      <td>1847698</td>\n",
       "      <td>606727</td>\n",
       "    </tr>\n",
       "    <tr>\n",
       "      <th>82629</th>\n",
       "      <td>1525369</td>\n",
       "      <td>982916</td>\n",
       "      <td>1450303</td>\n",
       "      <td>1690946</td>\n",
       "      <td>537495</td>\n",
       "      <td>801112</td>\n",
       "      <td>759849</td>\n",
       "      <td>1615304</td>\n",
       "      <td>831942</td>\n",
       "      <td>1101365</td>\n",
       "    </tr>\n",
       "    <tr>\n",
       "      <th>82630</th>\n",
       "      <td>1994487</td>\n",
       "      <td>674874</td>\n",
       "      <td>715914</td>\n",
       "      <td>2079500</td>\n",
       "      <td>835775</td>\n",
       "      <td>1146224</td>\n",
       "      <td>120717</td>\n",
       "      <td>1397059</td>\n",
       "      <td>724662</td>\n",
       "      <td>955342</td>\n",
       "    </tr>\n",
       "    <tr>\n",
       "      <th>82631</th>\n",
       "      <td>1828214</td>\n",
       "      <td>2087286</td>\n",
       "      <td>724879</td>\n",
       "      <td>1168577</td>\n",
       "      <td>868903</td>\n",
       "      <td>131739</td>\n",
       "      <td>907524</td>\n",
       "      <td>576479</td>\n",
       "      <td>373681</td>\n",
       "      <td>1959472</td>\n",
       "    </tr>\n",
       "    <tr>\n",
       "      <th>82632</th>\n",
       "      <td>1076763</td>\n",
       "      <td>1785970</td>\n",
       "      <td>1680032</td>\n",
       "      <td>1730020</td>\n",
       "      <td>2087802</td>\n",
       "      <td>1949095</td>\n",
       "      <td>972356</td>\n",
       "      <td>1926118</td>\n",
       "      <td>490841</td>\n",
       "      <td>978239</td>\n",
       "    </tr>\n",
       "  </tbody>\n",
       "</table>\n",
       "</div>"
      ],
      "text/plain": [
       "             0        1        2        3        4        5        6        7  \\\n",
       "82628  1059074   452045   640905   893084   122544  1162286  1970493   987543   \n",
       "82629  1525369   982916  1450303  1690946   537495   801112   759849  1615304   \n",
       "82630  1994487   674874   715914  2079500   835775  1146224   120717  1397059   \n",
       "82631  1828214  2087286   724879  1168577   868903   131739   907524   576479   \n",
       "82632  1076763  1785970  1680032  1730020  2087802  1949095   972356  1926118   \n",
       "\n",
       "             8        9  \n",
       "82628  1847698   606727  \n",
       "82629   831942  1101365  \n",
       "82630   724662   955342  \n",
       "82631   373681  1959472  \n",
       "82632   490841   978239  "
      ]
     },
     "execution_count": 5,
     "metadata": {},
     "output_type": "execute_result"
    }
   ],
   "source": [
    "latest_results = pd.read_csv('trainning_results_cut_6_most_common_5_279279.csv', header = None)\n",
    "latest_results.tail()"
   ]
  },
  {
   "cell_type": "code",
   "execution_count": 7,
   "metadata": {},
   "outputs": [],
   "source": [
    "def calibrate_results(reco,majority_cut,starting_pos):\n",
    "    \"\"\"\n",
    "    Given a recomendation, drop all items starting at starting_pos index, \n",
    "    and replace them with items similar at the first recommendation.\n",
    "    \n",
    "    :reco param: List of items already recommended in the previous step\n",
    "    :majority_cut param: Integer, represent a threshold for the number of domain ids equal\n",
    "    to the domain id of the first recommendation. If the amount of recommended items that belongs to that\n",
    "    domain is greater than majority_cut, remove the ones that dont belong to that domain and replace them.\n",
    "    :starting_pos param: Integer, index from where the algorithm will start removing the items \n",
    "    that dont belong to the most dominant domain id.\n",
    "    \n",
    "    :reco output: List, a new list containing the final recommendation\n",
    "    \"\"\"\n",
    "    majority, number =  Counter([item_domain_dict[x] for x in reco]).most_common()[0]\n",
    "    if number ==10:\n",
    "        return reco\n",
    "    f = item_domain_dict[reco[0]]\n",
    "    \n",
    "    if f==majority and number>=majority_cut:\n",
    "        c_reco = reco.copy()\n",
    "        for item in c_reco[starting_pos:]:\n",
    "            if item_domain_dict[item]!=f:\n",
    "                c_reco.remove(item)\n",
    "        k = 10 - len(c_reco)\n",
    "        if k==0:\n",
    "            return reco\n",
    "        relleno = get_most_similar(reco[0],c_reco,k)\n",
    "        c_reco = c_reco + relleno\n",
    "        return c_reco\n",
    "    \n",
    "    return reco"
   ]
  },
  {
   "cell_type": "code",
   "execution_count": 8,
   "metadata": {},
   "outputs": [
    {
     "data": {
      "application/vnd.jupyter.widget-view+json": {
       "model_id": "95acfcdb56ca4de9981eea8ed45ff569",
       "version_major": 2,
       "version_minor": 0
      },
      "text/plain": [
       "HBox(children=(FloatProgress(value=0.0, max=82633.0), HTML(value='')))"
      ]
     },
     "metadata": {},
     "output_type": "display_data"
    },
    {
     "name": "stdout",
     "output_type": "stream",
     "text": [
      "\n"
     ]
    }
   ],
   "source": [
    "y_pred = latest_results.to_numpy().tolist()\n",
    "y_pred_calibrated = []\n",
    "for reco in tqdm(y_pred):\n",
    "    new_reco = calibrate_results(reco,6,3)\n",
    "    y_pred_calibrated.append(new_reco)"
   ]
  },
  {
   "cell_type": "code",
   "execution_count": 10,
   "metadata": {},
   "outputs": [
    {
     "name": "stdout",
     "output_type": "stream",
     "text": [
      "Your score is: 0.2816344741430788\n"
     ]
    }
   ],
   "source": [
    "from challenge_metric import ndcg_score\n",
    "from sklearn.model_selection import train_test_split\n",
    "\n",
    "rows = jl_to_list('train_dataset.jl.gz')\n",
    "rows_train, rows_test= train_test_split(rows, test_size=0.2, random_state=42)\n",
    "y_true = [x['item_bought'] for x in rows_test]\n",
    "\n",
    "score = ndcg_score(y_true, y_pred_calibrated, item_data,n_predictions=10)\n",
    "print(f'Your score is: {score}')"
   ]
  },
  {
   "cell_type": "markdown",
   "metadata": {},
   "source": [
    "We pass from  0.27927938293429105 to 0.2816344741430788"
   ]
  },
  {
   "cell_type": "code",
   "execution_count": 11,
   "metadata": {},
   "outputs": [],
   "source": [
    "pd.DataFrame(y_pred_calibrated).to_csv('calibrated_s1_trainning_results_cut_6_most_common_5_279279.csv', index = False, header = None)"
   ]
  },
  {
   "cell_type": "code",
   "execution_count": 15,
   "metadata": {},
   "outputs": [],
   "source": [
    "y_true = [x['item_bought'] for x in rows_test]\n",
    "domain_most_sold = Counter([item_domain_dict[x] for x in y_true]).most_common()[0][0]\n",
    "static_most_sold = list(full_item_data[full_item_data.domain_id == domain_most_sold].sample(10).item_id.unique())\n",
    "\n",
    "def fill_with_domain_most_sold(reco,cut):\n",
    "    \"\"\"\n",
    "    Given a calibrated recommenadtion, if it doesnt have more than cut items with the same domain,\n",
    "    replace all the recommendations with the static one generated in the code above.\n",
    "    :cut param: Integer, min number of items with the same domain in order avoid being replaced. \n",
    "    \"\"\"\n",
    "    majority =  Counter([item_domain_dict[x] for x in reco]).most_common()[0][1]\n",
    "    if majority<=cut:\n",
    "        reco = static_most_sold\n",
    "        return reco\n",
    "    return reco"
   ]
  },
  {
   "cell_type": "code",
   "execution_count": 19,
   "metadata": {},
   "outputs": [
    {
     "data": {
      "application/vnd.jupyter.widget-view+json": {
       "model_id": "ac5abfedd3154f2f854cfb3ca91f689e",
       "version_major": 2,
       "version_minor": 0
      },
      "text/plain": [
       "HBox(children=(FloatProgress(value=0.0, max=82633.0), HTML(value='')))"
      ]
     },
     "metadata": {},
     "output_type": "display_data"
    },
    {
     "name": "stdout",
     "output_type": "stream",
     "text": [
      "\n"
     ]
    }
   ],
   "source": [
    "y_pred_calibrated_2 = []\n",
    "for reco in tqdm(y_pred_calibrated):\n",
    "    y_pred_calibrated_2.append(fill_with_domain_most_sold(reco,2))"
   ]
  },
  {
   "cell_type": "code",
   "execution_count": 20,
   "metadata": {},
   "outputs": [
    {
     "name": "stdout",
     "output_type": "stream",
     "text": [
      "Your score is: 0.2816344741430788\n"
     ]
    }
   ],
   "source": [
    "score = ndcg_score(y_true, y_pred_calibrated_2, item_data,n_predictions=10)\n",
    "print(f'Your score is: {score}')"
   ]
  },
  {
   "cell_type": "code",
   "execution_count": 21,
   "metadata": {},
   "outputs": [],
   "source": [
    "pd.DataFrame(y_pred_calibrated_2).to_csv('final_trainning_predictions.csv', index = False, header = None)"
   ]
  },
  {
   "cell_type": "code",
   "execution_count": null,
   "metadata": {},
   "outputs": [],
   "source": []
  }
 ],
 "metadata": {
  "kernelspec": {
   "display_name": "Python 3",
   "language": "python",
   "name": "python3"
  },
  "language_info": {
   "codemirror_mode": {
    "name": "ipython",
    "version": 3
   },
   "file_extension": ".py",
   "mimetype": "text/x-python",
   "name": "python",
   "nbconvert_exporter": "python",
   "pygments_lexer": "ipython3",
   "version": "3.7.6"
  }
 },
 "nbformat": 4,
 "nbformat_minor": 4
}
